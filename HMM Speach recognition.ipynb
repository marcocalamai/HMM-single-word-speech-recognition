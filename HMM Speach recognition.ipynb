{
 "cells": [
  {
   "cell_type": "markdown",
   "metadata": {},
   "source": [
    "## Import "
   ]
  },
  {
   "cell_type": "code",
   "execution_count": 1,
   "metadata": {},
   "outputs": [],
   "source": [
    "import numpy as np\n",
    "from scipy.fftpack import dct\n",
    "import scipy.io.wavfile\n",
    "import matplotlib.pyplot as plt\n",
    "import os\n",
    "import hashlib\n",
    "import re\n",
    "from hmmlearn import hmm\n",
    "import pickle\n",
    "import math\n",
    "from sklearn.metrics import confusion_matrix\n",
    "from sklearn.metrics import ConfusionMatrixDisplay\n",
    "from sklearn.metrics import precision_recall_fscore_support\n",
    "from prettytable import PrettyTable\n",
    "from prettytable import PLAIN_COLUMNS\n"
   ]
  },
  {
   "cell_type": "markdown",
   "metadata": {},
   "source": [
    "## Function for plot the signal amplitude over the time and fiterbank"
   ]
  },
  {
   "cell_type": "code",
   "execution_count": 2,
   "metadata": {},
   "outputs": [],
   "source": [
    "def plotSignal(time, signal):\n",
    "    plt.plot(time , signal)\n",
    "    plt.xlabel(\"Time\")\n",
    "    plt.ylabel(\"Amplitude\")\n",
    "    plt.show()\n",
    "    \n",
    "def plotFilterbank(fbank_matrix):\n",
    "    plt.plot(fbank_matrix[:,:].T)\n",
    "    plt.xlabel(\"Frequency\")\n",
    "    plt.ylabel(\"Amplitude\")\n",
    "    plt.savefig('filterbanks.pdf')\n",
    "    \n",
    "    "
   ]
  },
  {
   "cell_type": "markdown",
   "metadata": {},
   "source": [
    "# Function for extract features Mel-Frequency Cepstral Coefficients (MFCCs) and Delta from audio source"
   ]
  },
  {
   "cell_type": "code",
   "execution_count": 3,
   "metadata": {},
   "outputs": [],
   "source": [
    "def get_features(file_path, pre_emphasis = 0.95, frame_size = 0.025, frame_step = 0.01, NFFT = 512,\\\n",
    "                 nfilt = 26, low_freq_hz = 300, num_ceps = 12):\n",
    "    \n",
    "    \"\"\"\n",
    "    Args:\n",
    "        file_path: File path of the data sample.\n",
    "        pre_emphasis: filter coefficient for pre emphasis phase.\n",
    "        frame_size: size of the frames in framing phase.\n",
    "        frame_step: size of the overlap in framing phase.\n",
    "        NFFT: point numbers of discrete Fourier Transform (DFT).\n",
    "        nfilt: number of filters used in filter Banks calulation phase.\n",
    "        low_freq_hz: lower frequency used in filter Banks calulation phase.\n",
    "        num_ceps: number of Cepstral Coefficients. \n",
    "\n",
    "    Returns:\n",
    "        numpy array, of features: MFFCCs and delta coefficients.\n",
    "    \"\"\"\n",
    "    sample_rate, signal = scipy.io.wavfile.read(file_path)\n",
    "        \n",
    "        \n",
    "    time = np.linspace(0,signal.shape[0]/sample_rate, signal.shape[0])\n",
    "    #plotSignal(time, signal)\n",
    "\n",
    "    #Preemphasis\n",
    "    signal = np.append(signal[0], signal[1:] - pre_emphasis * signal[: -1])\n",
    "    #plotSignal(time, signal)\n",
    "\n",
    "    #Framing\n",
    "    signal_length = len(signal)\n",
    "    frame_length = int(frame_size * sample_rate)\n",
    "    step_length = int(frame_step * sample_rate)\n",
    "    signal_framing = np.empty((0,frame_length),float)\n",
    "\n",
    "\n",
    "    num_frames = int(np.ceil(float(np.abs(signal_length-frame_length))/step_length))+1\n",
    "    pad_signal_length = (frame_length + num_frames * step_length) - signal_length\n",
    "    pad_signal = np.zeros(pad_signal_length)\n",
    "    signal = np.append(signal,pad_signal)\n",
    "\n",
    "    indices_matrix = np.tile(np.arange(0,frame_length),(num_frames,1))\n",
    "    offset_indices = np.arange(0,step_length*num_frames,step_length)\n",
    "    indices_matrix = (indices_matrix[0:].T + (offset_indices[0:])).T\n",
    "    frames = signal[indices_matrix.astype(np.int32, copy=False)]\n",
    "\n",
    "    #Windowing\n",
    "    #Explicit implementation:\n",
    "    #w = np.arange(0,frame_length)\n",
    "    #w = 0.54 - 0.46 * np.cos((2 * np.pi * w) / (frame_length - 1))\n",
    "    #frames*=w\n",
    "    frames *= np.hamming(frame_length)\n",
    "\n",
    "    #Discrete Fourier Transformation\n",
    "    magnitude_frames = np.absolute(np.fft.rfft(frames, NFFT))\n",
    "\n",
    "    #Power spectrum\n",
    "    pow_frames = (magnitude_frames ** 2) / NFFT\n",
    "\n",
    "    #Compute energy\n",
    "    energy = np.sum(pow_frames, axis = 1)\n",
    "\n",
    "    #Filter Banks\n",
    "    # nfilt = filters number\n",
    "    # low_freq_hz = 300 usually default is 0 (set to 300 for discard too low frequency,\\\n",
    "    # likely generated from noise)\n",
    "    highfreq = sample_rate / 2\n",
    "    low_freq_mel = (2595 * np.log10(1 + low_freq_hz / 700.))  # Convert Hz to Mel\n",
    "    high_freq_mel = (2595 * np.log10(1 + highfreq / 700.))  # Convert Hz to Mel\n",
    "\n",
    "    mel_points = np.linspace(low_freq_mel, high_freq_mel, nfilt + 2 ) # Equally spaced in Mel scale\n",
    "    hz_points = (700 * (10** (mel_points / 2595.0) - 1 )) # Convert Mel to Hz\n",
    "    bin = np.floor((NFFT + 1) * hz_points / sample_rate) # our points are in Hz, but we use fft bins,\\\n",
    "                                                         # so we have to conver from Hz to fft bin number\n",
    "\n",
    "    fbank = np.zeros((nfilt, int(np.floor(NFFT / 2 + 1))))\n",
    "\n",
    "    for j in range(0,nfilt):\n",
    "            for i in range(int(bin[j]), int(bin[j+1])):\n",
    "                fbank[j,i] = (i - bin[j]) / (bin[j+1]-bin[j])\n",
    "            for i in range(int(bin[j+1]), int(bin[j+2])):\n",
    "                fbank[j,i] = (bin[j+2]-i) / (bin[j+2]-bin[j+1])\n",
    "\n",
    "\n",
    "    # Plot filterbank if you want           \n",
    "    #plotFilterbank(fbank)         \n",
    "\n",
    "    filter_banks = np.dot(pow_frames, fbank.T)\n",
    "    filter_banks = np.where(filter_banks == 0, np.finfo(float).eps, filter_banks)  # if energy is zero, we get problems with log\n",
    "    filter_banks = np.log10(filter_banks)  # dB\n",
    "\n",
    "    #Mel Frequency Cepstral Coefficients\n",
    "    mfcc = dct(filter_banks, type=2, axis=1, norm='ortho')[:, 0:(num_ceps)] # Keep 0 to num_ceps-1\n",
    "    mfcc[:, 0] = np.log(energy + 1e-8)  # the zeroth cepstral coefficient is replaced with the log of\\\n",
    "                                        # the total frame energy\n",
    "\n",
    "\n",
    "    cep_lifter = 22\n",
    "    (nframes, ncoeff) = mfcc.shape\n",
    "    n = np.arange(ncoeff)\n",
    "    lift = 1 + (cep_lifter / 2) * np.sin(np.pi * n / cep_lifter)\n",
    "    mfcc *= lift  \n",
    "\n",
    "    #Mean normalization \n",
    "    filter_banks -= (np.mean(filter_banks, axis=0) + 1e-8)\n",
    "    mfcc -= (np.mean(mfcc, axis=0) + 1e-8)\n",
    "\n",
    "    #Delta compute\n",
    "    N = 2\n",
    "    num_frames = mfcc.shape[0]\n",
    "    denominator = 2 * sum([n**2 for n in range(1, N+1)])\n",
    "    delta_feat = np.empty_like(mfcc)\n",
    "    padded = np.pad(mfcc, ((N, N), (0, 0)), mode='edge')   # padded version of feature vectors(mfcc) (appending N*2 rows)\n",
    "    for t in range(num_frames):\n",
    "        delta_feat[t] = np.dot(np.arange(-N, N+1), padded[t : t+2*N+1]) / denominator   # [t : t+2*N+1] == [(N+t)-N : (N+t)+N+1]\n",
    "\n",
    "    #Append mfcc and Delta features\n",
    "    features = np.append(mfcc, delta_feat, axis = 1)\n",
    "    return features\n"
   ]
  },
  {
   "cell_type": "markdown",
   "metadata": {},
   "source": [
    "# Split training and test set"
   ]
  },
  {
   "cell_type": "code",
   "execution_count": 4,
   "metadata": {},
   "outputs": [],
   "source": [
    "MAX_NUM_WAVS_PER_CLASS = 2**27 - 1  # ~134M\n",
    "def which_set(filename, training_percentage, testing_percentage):\n",
    "    \"\"\"Determines which data partition the file should belong to.\n",
    "\n",
    "    We want to keep files in the same training, validation, or testing sets even\n",
    "    if new ones are added over time. This makes it less likely that testing\n",
    "    samples will accidentally be reused in training when long runs are restarted\n",
    "    for example. To keep this stability, a hash of the filename is taken and used\n",
    "    to determine which set it should belong to. This determination only depends on\n",
    "    the name and the set proportions, so it won't change as other files are added.\n",
    "\n",
    "    It's also useful to associate particular files as related (for example words\n",
    "    spoken by the same person), so anything after '_nohash_' in a filename is\n",
    "    ignored for set determination. This ensures that 'bobby_nohash_0.wav' and\n",
    "    'bobby_nohash_1.wav' are always in the same set, for example.\n",
    "\n",
    "    Args:\n",
    "        filename: File path of the data sample.\n",
    "        training_percentage: How much of the data set to use for training.\n",
    "        testing_percentage: How much of the data set to use for testing.\n",
    "\n",
    "    Returns:\n",
    "        String, one of 'training', or 'testing'.\n",
    "    \"\"\"\n",
    "    base_name = os.path.basename(filename)\n",
    "    # We want to ignore anything after '_nohash_' in the file name when\n",
    "    # deciding which set to put a wav in, so the data set creator has a way of\n",
    "    # grouping wavs that are close variations of each other.\n",
    "    hash_name = re.sub(r'_nohash_.*$', '', base_name)\n",
    "    # This looks a bit magical, but we need to decide whether this file should\n",
    "    # go into the training, testing, or validation sets, and we want to keep\n",
    "    # existing files in the same set even if more files are subsequently\n",
    "    # added.\n",
    "    # To do that, we need a stable way of deciding based on just the file name\n",
    "    # itself, so we do a hash of that and then use that to generate a\n",
    "    # probability value that we use to assign it.\n",
    "    hash_name_hashed = hashlib.sha1(hash_name.encode()).hexdigest()\n",
    "    percentage_hash = ((int(hash_name_hashed, 16) %\n",
    "                      (MAX_NUM_WAVS_PER_CLASS + 1)) *\n",
    "                     (100.0 / MAX_NUM_WAVS_PER_CLASS))\n",
    "    if percentage_hash < training_percentage:\n",
    "        result = 'training'\n",
    "    else:\n",
    "        result = 'testing'\n",
    "    return result"
   ]
  },
  {
   "cell_type": "code",
   "execution_count": null,
   "metadata": {},
   "outputs": [],
   "source": []
  },
  {
   "cell_type": "code",
   "execution_count": null,
   "metadata": {},
   "outputs": [],
   "source": []
  },
  {
   "cell_type": "code",
   "execution_count": null,
   "metadata": {},
   "outputs": [],
   "source": []
  },
  {
   "cell_type": "markdown",
   "metadata": {},
   "source": [
    "# SPEECH COMMANDS DATA SET v0.02"
   ]
  },
  {
   "cell_type": "markdown",
   "metadata": {},
   "source": [
    "# Compute vectors of features and store labels lists for training and test"
   ]
  },
  {
   "cell_type": "code",
   "execution_count": 5,
   "metadata": {},
   "outputs": [],
   "source": [
    "#txt_train = open(\"training_list.txt\", \"x\")\n",
    "#txt_test = open(\"testing_list.txt\", \"x\")\n",
    "path_dataset = \"Dataset/speech_commands_v0.01\"\n",
    "#path_dataset = \"Dataset/speech_commands_v0.02\"\n",
    "#path_dataset = \"Dataset/fruits\"\n",
    "train_dict = {}\n",
    "test_dict = {}\n",
    "for root_dir, sub_dir, file in os.walk(path_dataset):\n",
    "    sub_dir[:] = [d for d in sub_dir if d not in ['_background_noise_'] ]\n",
    "    for wave in file:\n",
    "        if(re.match('.*\\.wav$',wave)):\n",
    "            file_path = (os.path.join(root_dir, wave))\n",
    "            label = os.path.relpath(root_dir, path_dataset)\n",
    "            feature = get_features(file_path)\n",
    "            partition = which_set(wave, 80, 20)\n",
    "            \n",
    "            if (partition == 'training'):\n",
    "                if (label not in train_dict):\n",
    "                    train_dict[label] = []\n",
    "                    train_dict[label].append(feature)\n",
    "                else:\n",
    "                    train_dict[label].append(feature)\n",
    "                #txt_train.write(label + \"/\" + wave + \"\\n\")\n",
    "                \n",
    "            elif (partition == 'testing'):\n",
    "                if (label not in test_dict):\n",
    "                    test_dict[label] = []\n",
    "                    test_dict[label].append(feature)\n",
    "                else:\n",
    "                    test_dict[label].append(feature)  \n",
    "                #txt_test.write(label + \"/\"+ wave + \"\\n\")\n",
    "            else:\n",
    "                continue\n",
    "#txt_train.close()\n",
    "#txt_test.close()\n",
    "\n",
    "words = list(train_dict) # save unique single words into the train dataset "
   ]
  },
  {
   "cell_type": "markdown",
   "metadata": {},
   "source": [
    "# Train HMMs with Gaussian mixture emissions, one  for each word and save it on models folder"
   ]
  },
  {
   "cell_type": "code",
   "execution_count": 14,
   "metadata": {},
   "outputs": [
    {
     "name": "stdout",
     "output_type": "stream",
     "text": [
      "Finish train model GMM-HMM 0\n",
      "Finish train model GMM-HMM 1\n",
      "Finish train model GMM-HMM 2\n",
      "Finish train model GMM-HMM 3\n",
      "Finish train model GMM-HMM 4\n",
      "Finish train model GMM-HMM 5\n",
      "Finish train model GMM-HMM 6\n",
      "Finish train model GMM-HMM 7\n",
      "Finish train model GMM-HMM 8\n",
      "Finish train model GMM-HMM 9\n",
      "Finish train model GMM-HMM 10\n",
      "Finish train model GMM-HMM 11\n",
      "Finish train model GMM-HMM 12\n",
      "Finish train model GMM-HMM 13\n",
      "Finish train model GMM-HMM 14\n",
      "Finish train model GMM-HMM 15\n",
      "Finish train model GMM-HMM 16\n",
      "Finish train model GMM-HMM 17\n",
      "Finish train model GMM-HMM 18\n",
      "Finish train model GMM-HMM 19\n",
      "Finish train model GMM-HMM 20\n",
      "Finish train model GMM-HMM 21\n",
      "Finish train model GMM-HMM 22\n",
      "Finish train model GMM-HMM 23\n",
      "Finish train model GMM-HMM 24\n",
      "Finish train model GMM-HMM 25\n",
      "Finish train model GMM-HMM 26\n",
      "Finish train model GMM-HMM 27\n",
      "Finish train model GMM-HMM 28\n",
      "Finish train model GMM-HMM 29\n",
      "Finish train 30 GMM-HMMs for 30 different words\n"
     ]
    },
    {
     "ename": "FileExistsError",
     "evalue": "[Errno 17] File exists: 'models/model.pkl'",
     "output_type": "error",
     "traceback": [
      "\u001b[0;31m---------------------------------------------------------------------------\u001b[0m",
      "\u001b[0;31mFileExistsError\u001b[0m                           Traceback (most recent call last)",
      "\u001b[0;32m<ipython-input-14-0c2db150b4d0>\u001b[0m in \u001b[0;36m<module>\u001b[0;34m\u001b[0m\n\u001b[1;32m     44\u001b[0m \"\"\"\n\u001b[1;32m     45\u001b[0m \u001b[0;34m\u001b[0m\u001b[0m\n\u001b[0;32m---> 46\u001b[0;31m \u001b[0;32mwith\u001b[0m \u001b[0mopen\u001b[0m\u001b[0;34m(\u001b[0m\u001b[0;34m\"models/model.pkl\"\u001b[0m\u001b[0;34m,\u001b[0m \u001b[0;34m\"xb\"\u001b[0m\u001b[0;34m)\u001b[0m \u001b[0;32mas\u001b[0m \u001b[0mfile\u001b[0m\u001b[0;34m:\u001b[0m\u001b[0;34m\u001b[0m\u001b[0;34m\u001b[0m\u001b[0m\n\u001b[0m\u001b[1;32m     47\u001b[0m     \u001b[0mpickle\u001b[0m\u001b[0;34m.\u001b[0m\u001b[0mdump\u001b[0m\u001b[0;34m(\u001b[0m\u001b[0mtrained_model\u001b[0m\u001b[0;34m,\u001b[0m \u001b[0mfile\u001b[0m\u001b[0;34m,\u001b[0m \u001b[0mpickle\u001b[0m\u001b[0;34m.\u001b[0m\u001b[0mHIGHEST_PROTOCOL\u001b[0m\u001b[0;34m)\u001b[0m\u001b[0;34m\u001b[0m\u001b[0;34m\u001b[0m\u001b[0m\n\u001b[1;32m     48\u001b[0m \u001b[0;34m\u001b[0m\u001b[0m\n",
      "\u001b[0;31mFileExistsError\u001b[0m: [Errno 17] File exists: 'models/model.pkl'"
     ]
    }
   ],
   "source": [
    "GMMHMM_models = {} # dict of HMMs (one model for each word into the dataset)\n",
    "num_states = 3 # States number of HMM\n",
    "num_mix = 7 # number of mixtures for each hidden state\n",
    "covariance_type = 'diag'  # covariance type\n",
    "num_iter = 10  # number of max iterations\n",
    "bakis_level = 2\n",
    "\n",
    "start_prob = np.zeros(num_states) # start probability prior\n",
    "start_prob[0:bakis_level - 1] = 1 / float(1 / (bakis_level - 1))\n",
    "\n",
    "trans_mat = np.eye(num_states) # transaction matrix probability prior \n",
    "for i in range(num_states - (bakis_level - 1)):\n",
    "    for j in range(bakis_level):\n",
    "        trans_mat[i, i + j] = 1 / bakis_level\n",
    "\n",
    "for i in range((num_states - (bakis_level ) + 1), num_states ):\n",
    "    trans_mat[i,i:] = (1 / (num_states - i))\n",
    "\n",
    "model_number = 0\n",
    "for word in train_dict:\n",
    "    model = hmm.GMMHMM(n_components = num_states, n_mix = num_mix, startprob_prior = start_prob,\\\n",
    "                               transmat_prior = trans_mat, covariance_type = covariance_type,\\\n",
    "                               n_iter = num_iter, verbose=False)\n",
    "\n",
    "    train_samples = train_dict[word]\n",
    "    length_samples = np.zeros(len(train_samples), dtype=np.int) # lenght_samples = length (number of\\\n",
    "                                                                # frames) of each sample of word\n",
    "    for elem in range(len(train_samples)):\n",
    "        length_samples[elem] = train_samples[elem].shape[0]\n",
    "\n",
    "    train_samples = np.vstack(train_samples) # Stack arrays in train_samples in sequence vertically \n",
    "    model.fit(train_samples)\n",
    "\n",
    "    GMMHMM_models[word] = model\n",
    "    print(\"Finish train model GMM-HMM %s\" % model_number)\n",
    "    model_number += 1\n",
    "num_words = len(train_dict)\n",
    "print(\"Finish train %s GMM-HMMs for %s different words\" % (num_words, num_words))\n",
    "\n",
    "\n",
    "trained_model = GMMHMM_models\n",
    "\"\"\"\n",
    "Save model to file\n",
    "\"\"\"\n",
    "\n",
    "with open(\"models/model.pkl\", \"xb\") as file: \n",
    "    pickle.dump(trained_model, file, pickle.HIGHEST_PROTOCOL)\n",
    "    \n",
    "    \n",
    "    \n",
    "\"\"\"\n",
    "Load model from file\n",
    "\"\"\"\n",
    "\"\"\"\n",
    "For the loading of pre trained model   \n",
    "with open(\"models/model.pkl\", \"rb\") as file: \n",
    "    trained_model = pickle.load(file)\n",
    "    \n",
    "\"\"\"\n",
    "print(\"\")\n",
    "\n",
    "\n",
    "    \n",
    "    "
   ]
  },
  {
   "cell_type": "markdown",
   "metadata": {},
   "source": [
    "# Predict test set"
   ]
  },
  {
   "cell_type": "code",
   "execution_count": 15,
   "metadata": {},
   "outputs": [
    {
     "name": "stdout",
     "output_type": "stream",
     "text": [
      "Recognition rate 76.60264202933787\n"
     ]
    }
   ],
   "source": [
    "score_count = 0\n",
    "words_number = 0\n",
    "y_true = []\n",
    "y_pred = []\n",
    "for word in test_dict.keys():\n",
    "    test_samples = test_dict[word]\n",
    "    for speech_word in test_samples:\n",
    "        words_number += 1\n",
    "        score_models = {}\n",
    "        for word_model in trained_model.keys():\n",
    "            model = trained_model[word_model]\n",
    "            score = model.score(speech_word)\n",
    "            score_models[word_model] = score\n",
    "        predict_word = max(score_models, key = score_models.get)\n",
    "        #print(\"Test on true label \", word, \": predict result label is \", predict_word)\n",
    "        y_true.append(word)\n",
    "        y_pred.append(predict_word)\n",
    "        if predict_word == word:\n",
    "            score_count += 1\n",
    "\n",
    "            \n",
    "accuracy = (100 * score_count / words_number)              \n",
    "print(\"Recognition rate %s\" %(accuracy))\n",
    "            \n",
    "        \n",
    "        "
   ]
  },
  {
   "cell_type": "markdown",
   "metadata": {},
   "source": [
    "# Confusion matrix"
   ]
  },
  {
   "cell_type": "code",
   "execution_count": 16,
   "metadata": {
    "scrolled": true
   },
   "outputs": [
    {
     "data": {
      "image/png": "[encoded data removed]",
      "text/plain": [
       "<Figure size 11520x1728 with 2 Axes>"
      ]
     },
     "metadata": {
      "needs_background": "light"
     },
     "output_type": "display_data"
    }
   ],
   "source": [
    "plt.rcParams[\"figure.figsize\"] = (160,24)\n",
    "\n",
    "cm = confusion_matrix(y_true, y_pred, labels = words)\n",
    "disp = ConfusionMatrixDisplay(cm, display_labels = words)\n",
    "disp = disp.plot(cmap=plt.cm.Blues)\n",
    "plt.margins(0,0)\n",
    "#plt.savefig('speech_commands_datasetv0.02_conf_mat.pdf', bbox_inches='tight')\n",
    "plt.show()\n"
   ]
  },
  {
   "cell_type": "markdown",
   "metadata": {},
   "source": [
    "# Compute Precision, Recall and F1 score indexes"
   ]
  },
  {
   "cell_type": "code",
   "execution_count": 10,
   "metadata": {},
   "outputs": [
    {
     "name": "stdout",
     "output_type": "stream",
     "text": [
      "precision:  [0.81922197 0.67848101 0.68493151 0.9239905  0.89375    0.85201794\n",
      " 0.756691   0.87469287 0.88014981 0.93981481 0.95899772 0.79890311\n",
      " 0.81534772 0.4137931  0.92307692 0.94224924 0.83018868 0.7827381\n",
      " 0.93095238 0.87816092 0.93478261 0.98402556 0.90070922 0.83296703\n",
      " 0.66943867 0.97378277 0.85242291 0.86363636 0.90182648 0.77235772]\n",
      "recall:  [0.77489177 0.83229814 0.63694268 0.81551363 0.88271605 0.85201794\n",
      " 0.65750529 0.78587196 0.72307692 0.88069414 0.92527473 0.91231733\n",
      " 0.8056872  0.81355932 0.82242991 0.93655589 0.82435597 0.8538961\n",
      " 0.85745614 0.86621315 0.91166078 0.89275362 0.71549296 0.79957806\n",
      " 0.74883721 0.83067093 0.84682713 0.85806452 0.83509514 0.7966457 ]\n",
      "fscore:  [0.79644049 0.74755927 0.66006601 0.86636971 0.88819876 0.85201794\n",
      " 0.70361991 0.82790698 0.79391892 0.90929451 0.94183445 0.85185185\n",
      " 0.81048868 0.54857143 0.86985173 0.93939394 0.82726204 0.81677019\n",
      " 0.89269406 0.87214612 0.92307692 0.93617021 0.79748823 0.81593111\n",
      " 0.70691548 0.89655172 0.84961581 0.86084142 0.86717892 0.78431373]\n",
      "support:  [462 322 471 477 324 446 473 453 325 461 455 479 422 413 321 331 427 308\n",
      " 456 441 283 345 355 474 430 313 457 465 473 477]\n"
     ]
    }
   ],
   "source": [
    "precision, recall, fscore, support = precision_recall_fscore_support(y_true, y_pred, labels = words)\n",
    "print('precision: ', precision)\n",
    "print('recall: ', recall)\n",
    "print('fscore: ', fscore)\n",
    "print('support: ', support)"
   ]
  },
  {
   "cell_type": "code",
   "execution_count": 11,
   "metadata": {},
   "outputs": [],
   "source": [
    "total_samples = np.sum(support)\n",
    "precision_m, recall_m, fscore_m, support_m = precision_recall_fscore_support(y_true, y_pred, \\\n",
    "                                                                             labels = words, average = 'macro')\n",
    "precision_w, recall_w, fscore_w, support_w = precision_recall_fscore_support(y_true, y_pred,\\\n",
    "                                                                             labels = words, average = 'weighted')"
   ]
  },
  {
   "cell_type": "code",
   "execution_count": 12,
   "metadata": {},
   "outputs": [],
   "source": [
    "blank = [\" \", \" \", \" \", \" \", \" \"]\n",
    "x = PrettyTable()\n",
    "#x.set_style(PLAIN_COLUMNS)\n",
    "\n",
    "column_names = [\"\\033[1mLabels\", \"Precision\", \"Recall\", \"Fscore\", \"Support\\033[0m\"]\n",
    "#x.field_names = column_names\n",
    "x.align[\"\\033[1mLabels\"] = \"l\"\n",
    "x.add_column(column_names[0], words)\n",
    "x.add_column(column_names[1],np.around(precision,2))\n",
    "x.add_column(column_names[2],np.around(recall,2))\n",
    "x.add_column(column_names[3],np.around(fscore,2))\n",
    "x.add_column(column_names[4],np.around(support,2))\n",
    "x.add_row(blank)\n",
    "x.add_row(blank)\n",
    "\n",
    "x.add_row([\"\\033[1m Avg \\033[0m\", np.around(precision_m,2), np.around(recall_m,2), \\\n",
    "           np.around(fscore_m,2), total_samples])\n",
    "x.add_row([\"\\033[1m Weighted Avg \\033[0m\", np.around(precision_w,2), np.around(recall_w,2),\\\n",
    "           np.around(fscore_w,2), total_samples])\n",
    "x.add_row([\"\\033[1m Accuracy \\033[0m\", \"\", \"\", np.around(accuracy,2), total_samples])\n",
    "\n"
   ]
  },
  {
   "cell_type": "code",
   "execution_count": 13,
   "metadata": {},
   "outputs": [
    {
     "name": "stdout",
     "output_type": "stream",
     "text": [
      "+----------------+-----------+--------+--------+---------+\n",
      "|     \u001b[1mLabels     | Precision | Recall | Fscore | Support\u001b[0m |\n",
      "+----------------+-----------+--------+--------+---------+\n",
      "|      off       |    0.82   |  0.77  |  0.8   |   462   |\n",
      "|      bed       |    0.68   |  0.83  |  0.75  |   322   |\n",
      "|       go       |    0.68   |  0.64  |  0.66  |   471   |\n",
      "|      stop      |    0.92   |  0.82  |  0.87  |   477   |\n",
      "|      bird      |    0.89   |  0.88  |  0.89  |   324   |\n",
      "|     seven      |    0.85   |  0.85  |  0.85  |   446   |\n",
      "|       no       |    0.76   |  0.66  |  0.7   |   473   |\n",
      "|      five      |    0.87   |  0.79  |  0.83  |   453   |\n",
      "|      tree      |    0.88   |  0.72  |  0.79  |   325   |\n",
      "|      zero      |    0.94   |  0.88  |  0.91  |   461   |\n",
      "|      yes       |    0.96   |  0.93  |  0.94  |   455   |\n",
      "|      six       |    0.8    |  0.91  |  0.85  |   479   |\n",
      "|     three      |    0.82   |  0.81  |  0.81  |   422   |\n",
      "|       up       |    0.41   |  0.81  |  0.55  |   413   |\n",
      "|      wow       |    0.92   |  0.82  |  0.87  |   321   |\n",
      "|     house      |    0.94   |  0.94  |  0.94  |   331   |\n",
      "|      left      |    0.83   |  0.82  |  0.83  |   427   |\n",
      "|      cat       |    0.78   |  0.85  |  0.82  |   308   |\n",
      "|     eight      |    0.93   |  0.86  |  0.89  |   456   |\n",
      "|      four      |    0.88   |  0.87  |  0.87  |   441   |\n",
      "|     happy      |    0.93   |  0.91  |  0.92  |   283   |\n",
      "|     sheila     |    0.98   |  0.89  |  0.94  |   345   |\n",
      "|      dog       |    0.9    |  0.72  |  0.8   |   355   |\n",
      "|      two       |    0.83   |  0.8   |  0.82  |   474   |\n",
      "|      down      |    0.67   |  0.75  |  0.71  |   430   |\n",
      "|     marvin     |    0.97   |  0.83  |  0.9   |   313   |\n",
      "|      one       |    0.85   |  0.85  |  0.85  |   457   |\n",
      "|      nine      |    0.86   |  0.86  |  0.86  |   465   |\n",
      "|     right      |    0.9    |  0.84  |  0.87  |   473   |\n",
      "|       on       |    0.77   |  0.8   |  0.78  |   477   |\n",
      "|                |           |        |        |         |\n",
      "|                |           |        |        |         |\n",
      "|     \u001b[1m Avg \u001b[0m      |    0.84   |  0.82  |  0.83  |  12339  |\n",
      "| \u001b[1m Weighted Avg \u001b[0m |    0.84   |  0.82  |  0.83  |  12339  |\n",
      "|   \u001b[1m Accuracy \u001b[0m   |           |        | 82.07  |  12339  |\n",
      "+----------------+-----------+--------+--------+---------+\n"
     ]
    }
   ],
   "source": [
    "print(x)\n",
    "with open('speech_commands_datasetv0.01_precision_recall_fscore_support.txt', 'w') as f:\n",
    "    f.write(str(x))"
   ]
  },
  {
   "cell_type": "code",
   "execution_count": null,
   "metadata": {
    "scrolled": true
   },
   "outputs": [],
   "source": []
  },
  {
   "cell_type": "code",
   "execution_count": null,
   "metadata": {},
   "outputs": [],
   "source": []
  },
  {
   "cell_type": "code",
   "execution_count": null,
   "metadata": {},
   "outputs": [],
   "source": []
  },
  {
   "cell_type": "code",
   "execution_count": null,
   "metadata": {},
   "outputs": [],
   "source": []
  },
  {
   "cell_type": "code",
   "execution_count": null,
   "metadata": {},
   "outputs": [],
   "source": []
  },
  {
   "cell_type": "markdown",
   "metadata": {},
   "source": [
    "# FRUITS DATASET"
   ]
  },
  {
   "cell_type": "markdown",
   "metadata": {},
   "source": [
    "## Extract and store features "
   ]
  },
  {
   "cell_type": "code",
   "execution_count": 165,
   "metadata": {},
   "outputs": [],
   "source": [
    "#txt_train = open(\"training_list.txt\", \"x\")\n",
    "#txt_test = open(\"testing_list.txt\", \"x\")\n",
    "#path_dataset = \"Dataset/speech_commands_v0.02\"\n",
    "path_dataset = \"Dataset/fruits\"\n",
    "train_dict_fruit = {}\n",
    "test_dict_fruit = {}\n",
    "labels_list = []\n",
    "features_list = []\n",
    "for root_dir, sub_dir, file in os.walk(path_dataset):\n",
    "    sub_dir[:] = [d for d in sub_dir if d not in ['_background_noise_'] ]\n",
    "    for wave in file:\n",
    "        if(re.match('.*\\.wav$',wave)):\n",
    "            file_path = (os.path.join(root_dir, wave))\n",
    "            label = os.path.relpath(root_dir, path_dataset)\n",
    "            feature = get_features(file_path)\n",
    "            labels_list.append(label)\n",
    "            features_list.append(feature)\n",
    "            \n",
    "            \n",
    "c = list(zip(features_list, labels_list))\n",
    "np.random.shuffle(c)\n",
    "features_list,labels_list = zip(*c)\n",
    "words = np.unique(labels_list)\n",
    "\n",
    "\"\"\"\n",
    "Split 80% for training and 30% for test\n",
    "\"\"\"\n",
    "training_features = features_list[0: math.ceil(len(features_list)*0.8)]\n",
    "training_labels = labels_list[0: math.ceil(len(labels_list)*0.8)]\n",
    "test_features = features_list[math.ceil(len(features_list)*0.8): ]\n",
    "test_labels = labels_list[math.ceil(len(labels_list)*0.8): ]\n",
    "\n",
    "\n",
    "            \n",
    "for i in range(len(training_features)):\n",
    "    if training_labels[i] not in train_dict_fruit:\n",
    "        train_dict_fruit[training_labels[i]] = []\n",
    "        train_dict_fruit[training_labels[i]].append(training_features[i])\n",
    "    else:\n",
    "        train_dict_fruit[training_labels[i]].append(training_features[i])\n",
    "\n",
    "        \n",
    "for i in range(len(test_features)):\n",
    "    if test_labels[i] not in test_dict_fruit:\n",
    "        test_dict_fruit[test_labels[i]] = []\n",
    "        test_dict_fruit[test_labels[i]].append(test_features[i])\n",
    "    else:\n",
    "        test_dict_fruit[test_labels[i]].append(test_features[i])\n",
    "    \n"
   ]
  },
  {
   "cell_type": "markdown",
   "metadata": {},
   "source": [
    "# Train fruits dataset"
   ]
  },
  {
   "cell_type": "code",
   "execution_count": 166,
   "metadata": {},
   "outputs": [
    {
     "name": "stdout",
     "output_type": "stream",
     "text": [
      "Finish train model GMM-HMM 0\n",
      "Finish train model GMM-HMM 1\n",
      "Finish train model GMM-HMM 2\n",
      "Finish train model GMM-HMM 3\n",
      "Finish train model GMM-HMM 4\n",
      "Finish train model GMM-HMM 5\n",
      "Finish train model GMM-HMM 6\n",
      "Finish train 7 GMM-HMMs for 7 different words\n",
      "\n"
     ]
    }
   ],
   "source": [
    "GMMHMM_models_fruit = {} # dict of HMMs (one model for each word into the dataset)\n",
    "num_states = 3 # States number of HMM\n",
    "num_mix = 2 # number of mixtures for each hidden state\n",
    "covariance_type = 'diag'  # covariance type\n",
    "num_iter = 10  # number of max iterations\n",
    "bakis_level = 2\n",
    "\n",
    "start_prob = np.zeros(num_states) # start probability prior\n",
    "start_prob[0:bakis_level - 1] = 1 / float(1 / (bakis_level - 1))\n",
    "\n",
    "trans_mat = np.eye(num_states) # transaction matrix probability prior \n",
    "for i in range(num_states - (bakis_level - 1)):\n",
    "    for j in range(bakis_level):\n",
    "        trans_mat[i, i + j] = 1 / bakis_level\n",
    "\n",
    "for i in range((num_states - (bakis_level ) + 1), num_states ):\n",
    "    trans_mat[i,i:] = (1 / (num_states - i))\n",
    "\n",
    "model_number = 0\n",
    "for word in train_dict_fruit:\n",
    "    model = hmm.GMMHMM(n_components = num_states, n_mix = num_mix, startprob_prior = start_prob,\\\n",
    "                               transmat_prior = trans_mat, covariance_type = covariance_type,\\\n",
    "                               n_iter = num_iter, verbose=False)\n",
    "\n",
    "    train_samples = train_dict_fruit[word]\n",
    "    length_samples = np.zeros(len(train_samples), dtype=np.int) \n",
    "    for elem in range(len(train_samples)):\n",
    "        length_samples[elem] = train_samples[elem].shape[0]\n",
    "    \n",
    "    train_samples = np.vstack(train_samples) # Stack arrays in train_samples in sequence vertically \n",
    "\n",
    "        \n",
    "    \n",
    "    \n",
    "    \n",
    "    #model.fit(train_samples, length_samples) # MODEL FIT\n",
    "    model.fit(train_samples)\n",
    "\n",
    "    GMMHMM_models_fruit[word] = model\n",
    "    print(\"Finish train model GMM-HMM %s\" % model_number)\n",
    "    model_number += 1\n",
    "num_words = len(train_dict_fruit)\n",
    "print(\"Finish train %s GMM-HMMs for %s different words\" % (num_words, num_words))\n",
    "\n",
    "\n",
    "trained_model_fruit = GMMHMM_models_fruit\n",
    "\n",
    "\"\"\"\n",
    "Save model to file\n",
    "\n",
    "\n",
    "with open(\"models/model.pkl\", \"xb\") as file: \n",
    "    pickle.dump(trained_model, file, pickle.HIGHEST_PROTOCOL)\n",
    "\"\"\"\n",
    "\n",
    "\n",
    "\"\"\"\n",
    "Load model from file\n",
    "\n",
    "For the loading of pre trained model   \n",
    "with open(\"models/model.pkl\", \"rb\") as file: \n",
    "    trained_model = pickle.load(file)\n",
    "    \n",
    "\"\"\"\n",
    "print(\"\")"
   ]
  },
  {
   "cell_type": "markdown",
   "metadata": {},
   "source": [
    "# Test fruits dataset"
   ]
  },
  {
   "cell_type": "code",
   "execution_count": 354,
   "metadata": {},
   "outputs": [
    {
     "name": "stdout",
     "output_type": "stream",
     "text": [
      "banana :  banana\n",
      "banana :  banana\n",
      "banana :  banana\n",
      "banana :  banana\n",
      "lime :  lime\n",
      "lime :  lime\n",
      "lime :  lime\n",
      "lime :  lime\n",
      "pineapple :  pineapple\n",
      "pineapple :  pineapple\n",
      "kiwi :  kiwi\n",
      "kiwi :  kiwi\n",
      "kiwi :  kiwi\n",
      "kiwi :  kiwi\n",
      "kiwi :  kiwi\n",
      "apple :  apple\n",
      "apple :  apple\n",
      "peach :  peach\n",
      "peach :  peach\n",
      "peach :  peach\n",
      "orange :  orange\n",
      "Recognition rate 100.0\n"
     ]
    }
   ],
   "source": [
    "score_count = 0\n",
    "words_number = 0\n",
    "y_true = []\n",
    "y_pred = []\n",
    "for word in test_dict_fruit.keys():\n",
    "    test_samples = test_dict_fruit[word]\n",
    "    for speech_word in test_samples:\n",
    "        words_number += 1\n",
    "        score_models = {}\n",
    "        for word_model in trained_model_fruit.keys():\n",
    "            model = trained_model_fruit[word_model]\n",
    "            score = model.score(speech_word)\n",
    "            score_models[word_model] = score\n",
    "        predict_word = max(score_models, key = score_models.get)\n",
    "        print(word, \": \", predict_word)\n",
    "        y_true.append(word)\n",
    "        y_pred.append(predict_word)\n",
    "        if predict_word == word:\n",
    "            score_count += 1\n",
    "\n",
    "            \n",
    "accuracy = (100 * score_count / words_number)            \n",
    "print(\"Recognition rate %s\" %(accuracy))\n",
    "            "
   ]
  },
  {
   "cell_type": "markdown",
   "metadata": {},
   "source": [
    "# Confusion matrix"
   ]
  },
  {
   "cell_type": "code",
   "execution_count": 355,
   "metadata": {},
   "outputs": [
    {
     "data": {
      "image/png": "[encoded data removed]",
      "text/plain": [
       "<Figure size 2880x432 with 2 Axes>"
      ]
     },
     "metadata": {
      "needs_background": "light"
     },
     "output_type": "display_data"
    }
   ],
   "source": [
    "plt.rcParams[\"figure.figsize\"] = (40,6)\n",
    "\n",
    "cm = confusion_matrix(y_true, y_pred, labels = words)\n",
    "disp = ConfusionMatrixDisplay(cm, display_labels = words)\n",
    "disp = disp.plot(cmap=plt.cm.Blues)\n",
    "plt.margins(0,0)\n",
    "#plt.savefig('fruits_conf_mat.pdf', bbox_inches='tight')\n",
    "plt.show()\n"
   ]
  },
  {
   "cell_type": "markdown",
   "metadata": {},
   "source": [
    "# Compute Precision, Recall and F1 score indexes"
   ]
  },
  {
   "cell_type": "code",
   "execution_count": 251,
   "metadata": {},
   "outputs": [
    {
     "name": "stdout",
     "output_type": "stream",
     "text": [
      "precision:  [1. 1. 1. 1. 1. 1. 1.]\n",
      "recall:  [1. 1. 1. 1. 1. 1. 1.]\n",
      "fscore:  [1. 1. 1. 1. 1. 1. 1.]\n",
      "support:  [2 4 5 4 1 3 2]\n"
     ]
    }
   ],
   "source": [
    "precision, recall, fscore, support = precision_recall_fscore_support(y_true, y_pred, labels = words)\n",
    "print('precision: ', precision)\n",
    "print('recall: ', recall)\n",
    "print('fscore: ', fscore)\n",
    "print('support: ', support)"
   ]
  },
  {
   "cell_type": "code",
   "execution_count": 356,
   "metadata": {},
   "outputs": [],
   "source": [
    "total_samples = np.sum(support)\n",
    "precision_m, recall_m, fscore_m, support_m = precision_recall_fscore_support(y_true, y_pred, \\\n",
    "                                                                             labels = words, average = 'macro')\n",
    "precision_w, recall_w, fscore_w, support_w = precision_recall_fscore_support(y_true, y_pred,\\\n",
    "                                                                             labels = words, average = 'weighted')"
   ]
  },
  {
   "cell_type": "code",
   "execution_count": 357,
   "metadata": {},
   "outputs": [],
   "source": [
    "blank = [\" \", \" \", \" \", \" \", \" \"]\n",
    "x = PrettyTable()\n",
    "#x.set_style(PLAIN_COLUMNS)\n",
    "\n",
    "column_names = [\"\\033[1mLabels\", \"Precision\", \"Recall\", \"Fscore\", \"Support\\033[0m\"]\n",
    "#x.field_names = column_names\n",
    "x.align[\"\\033[1mLabels\"] = \"l\"\n",
    "x.add_column(column_names[0], words)\n",
    "x.add_column(column_names[1],precision)\n",
    "x.add_column(column_names[2],recall)\n",
    "x.add_column(column_names[3],fscore)\n",
    "x.add_column(column_names[4],support)\n",
    "x.add_row(blank)\n",
    "x.add_row(blank)\n",
    "\n",
    "x.add_row([\"\\033[1m Avg \\033[0m\", precision_m, recall_m, fscore_m, total_samples])\n",
    "x.add_row([\"\\033[1m Weighted Avg \\033[0m\", precision_w, recall_w, fscore_w, total_samples])\n",
    "x.add_row([\"\\033[1m Accuracy \\033[0m\", \"\", \"\", accuracy, total_samples])\n",
    "\n",
    "\n",
    "\n"
   ]
  },
  {
   "cell_type": "code",
   "execution_count": 358,
   "metadata": {},
   "outputs": [
    {
     "name": "stdout",
     "output_type": "stream",
     "text": [
      "+----------------+-----------+--------+--------+---------+\n",
      "|     \u001b[1mLabels     | Precision | Recall | Fscore | Support\u001b[0m |\n",
      "+----------------+-----------+--------+--------+---------+\n",
      "|     apple      |    1.0    |  1.0   |  1.0   |    2    |\n",
      "|     banana     |    1.0    |  1.0   |  1.0   |    4    |\n",
      "|      kiwi      |    1.0    |  1.0   |  1.0   |    5    |\n",
      "|      lime      |    1.0    |  1.0   |  1.0   |    4    |\n",
      "|     orange     |    1.0    |  1.0   |  1.0   |    1    |\n",
      "|     peach      |    1.0    |  1.0   |  1.0   |    3    |\n",
      "|   pineapple    |    1.0    |  1.0   |  1.0   |    2    |\n",
      "|                |           |        |        |         |\n",
      "|                |           |        |        |         |\n",
      "|     \u001b[1m Avg \u001b[0m      |    1.0    |  1.0   |  1.0   |    21   |\n",
      "| \u001b[1m Weighted Avg \u001b[0m |    1.0    |  1.0   |  1.0   |    21   |\n",
      "|   \u001b[1m Accuracy \u001b[0m   |           |        | 100.0  |    21   |\n",
      "+----------------+-----------+--------+--------+---------+\n"
     ]
    }
   ],
   "source": [
    "print(x)\n",
    "with open('fruits_precision_recall_fscore_support.txt', 'w') as f:\n",
    "    f.write(str(x))"
   ]
  },
  {
   "cell_type": "code",
   "execution_count": null,
   "metadata": {},
   "outputs": [],
   "source": [
    "    "
   ]
  },
  {
   "cell_type": "code",
   "execution_count": null,
   "metadata": {},
   "outputs": [],
   "source": []
  },
  {
   "cell_type": "markdown",
   "metadata": {},
   "source": [
    "# TEST ALL SPEECH SAMPLES FROM A SINGLE WORD"
   ]
  },
  {
   "cell_type": "code",
   "execution_count": 245,
   "metadata": {},
   "outputs": [
    {
     "name": "stdout",
     "output_type": "stream",
     "text": [
      "banana :  banana\n",
      "lime :  lime\n",
      "pineapple :  pineapple\n",
      "kiwi :  kiwi\n",
      "apple :  apple\n",
      "peach :  peach\n",
      "orange :  orange\n",
      "Recognition rate 100.0\n",
      "\n"
     ]
    }
   ],
   "source": [
    "score_count = 0\n",
    "words_number = 0\n",
    "for word in test_dict_fruit.keys():\n",
    "    test_samples = test_dict_fruit[word]\n",
    "    test_samples = np.vstack(test_samples)\n",
    "\n",
    "    \n",
    "\n",
    "    #for speech_word in test_samples:\n",
    "    words_number += 1\n",
    "    score_models = {}\n",
    "    for word_model in trained_model_fruit.keys():\n",
    "        model = trained_model_fruit[word_model]\n",
    "        score = model.score(test_samples)\n",
    "        score_models[word_model] = score\n",
    "    predict_word = max(score_models, key = score_models.get)\n",
    "    print(word, \": \", predict_word)\n",
    "    if predict_word == word:\n",
    "        score_count += 1\n",
    "\n",
    "\n",
    "\n",
    "print(\"Recognition rate %s\" %(100 * score_count / words_number))\n",
    "    \n",
    "print(\"\")"
   ]
  },
  {
   "cell_type": "code",
   "execution_count": null,
   "metadata": {},
   "outputs": [],
   "source": []
  },
  {
   "cell_type": "code",
   "execution_count": null,
   "metadata": {},
   "outputs": [],
   "source": []
  },
  {
   "cell_type": "code",
   "execution_count": null,
   "metadata": {},
   "outputs": [],
   "source": []
  },
  {
   "cell_type": "code",
   "execution_count": null,
   "metadata": {},
   "outputs": [],
   "source": []
  },
  {
   "cell_type": "code",
   "execution_count": null,
   "metadata": {},
   "outputs": [],
   "source": []
  },
  {
   "cell_type": "code",
   "execution_count": null,
   "metadata": {},
   "outputs": [],
   "source": []
  },
  {
   "cell_type": "code",
   "execution_count": null,
   "metadata": {},
   "outputs": [],
   "source": []
  }
 ],
 "metadata": {
  "celltoolbar": "Raw Cell Format",
  "kernelspec": {
   "display_name": "Python 3",
   "language": "python",
   "name": "python3"
  },
  "language_info": {
   "codemirror_mode": {
    "name": "ipython",
    "version": 3
   },
   "file_extension": ".py",
   "mimetype": "text/x-python",
   "name": "python",
   "nbconvert_exporter": "python",
   "pygments_lexer": "ipython3",
   "version": "3.8.3"
  }
 },
 "nbformat": 4,
 "nbformat_minor": 4
}
